{
 "cells": [
  {
   "cell_type": "code",
   "execution_count": 2,
   "metadata": {
    "vscode": {
     "languageId": "plaintext"
    }
   },
   "outputs": [
    {
     "ename": "ModuleNotFoundError",
     "evalue": "No module named 'src'",
     "output_type": "error",
     "traceback": [
      "\u001b[1;31m-----------------------------------------------------------\u001b[0m",
      "\u001b[1;31mModuleNotFoundError\u001b[0m       Traceback (most recent call last)",
      "Cell \u001b[1;32mIn[2], line 2\u001b[0m\n\u001b[0;32m      1\u001b[0m \u001b[38;5;66;03m# Import necessary modules from src\u001b[39;00m\n\u001b[1;32m----> 2\u001b[0m \u001b[38;5;28;01mfrom\u001b[39;00m \u001b[38;5;21;01msrc\u001b[39;00m\u001b[38;5;21;01m.\u001b[39;00m\u001b[38;5;21;01mload_data\u001b[39;00m \u001b[38;5;28;01mimport\u001b[39;00m load_csv\n\u001b[0;32m      3\u001b[0m \u001b[38;5;28;01mfrom\u001b[39;00m \u001b[38;5;21;01msrc\u001b[39;00m\u001b[38;5;21;01m.\u001b[39;00m\u001b[38;5;21;01mstatistics\u001b[39;00m \u001b[38;5;28;01mimport\u001b[39;00m calculate_mean, calculate_median, calculate_std_dev\n\u001b[0;32m      4\u001b[0m \u001b[38;5;28;01mfrom\u001b[39;00m \u001b[38;5;21;01msrc\u001b[39;00m\u001b[38;5;21;01m.\u001b[39;00m\u001b[38;5;21;01mvisualizations\u001b[39;00m \u001b[38;5;28;01mimport\u001b[39;00m plot_bar, plot_scatter\n",
      "\u001b[1;31mModuleNotFoundError\u001b[0m: No module named 'src'"
     ]
    }
   ],
   "source": [
    "# Import necessary modules from src\n",
    "from src.load_data import load_csv\n",
    "from src.statistics import calculate_mean, calculate_median, calculate_std_dev\n",
    "from src.visualizations import plot_bar, plot_scatter\n",
    "\n",
    "# Load the dataset\n",
    "file_path = \"../data/Inc_Exp_Data.csv\"\n",
    "data = load_csv(file_path)\n",
    "\n",
    "# Quick overview of the data\n",
    "if data is not None:\n",
    "    print(data.info())\n",
    "\n",
    "    # Calculate statistics\n",
    "    print(\"Mean Monthly Household Expense:\", calculate_mean(data, \"Mthly_HH_Expense\"))\n",
    "    print(\"Median Monthly Household Expense:\", calculate_median(data, \"Mthly_HH_Expense\"))\n",
    "    print(\"Standard Deviation of Income:\", calculate_std_dev(data, \"Mthly_HH_Income\"))\n",
    "\n",
    "    # Visualizations\n",
    "    plot_bar(data, \"Highest_Qualified_Member\")\n",
    "    plot_scatter(data, \"Mthly_HH_Income\", \"Mthly_HH_Expense\")\n"
   ]
  },
  {
   "cell_type": "code",
   "execution_count": 4,
   "metadata": {},
   "outputs": [
    {
     "ename": "ImportError",
     "evalue": "cannot import name 'calculate_mean' from 'statistics' (C:\\Users\\ADMIN\\AppData\\Local\\Programs\\Python\\Python313\\Lib\\statistics.py)",
     "output_type": "error",
     "traceback": [
      "\u001b[1;31m-----------------------------------------------------------\u001b[0m",
      "\u001b[1;31mImportError\u001b[0m               Traceback (most recent call last)",
      "Cell \u001b[1;32mIn[4], line 9\u001b[0m\n\u001b[0;32m      7\u001b[0m \u001b[38;5;66;03m# Import necessary modules from src\u001b[39;00m\n\u001b[0;32m      8\u001b[0m \u001b[38;5;28;01mfrom\u001b[39;00m \u001b[38;5;21;01mload_data\u001b[39;00m \u001b[38;5;28;01mimport\u001b[39;00m load_csv\n\u001b[1;32m----> 9\u001b[0m \u001b[38;5;28;01mfrom\u001b[39;00m \u001b[38;5;21;01mstatistics\u001b[39;00m \u001b[38;5;28;01mimport\u001b[39;00m calculate_mean, calculate_median, calculate_std_dev\n\u001b[0;32m     10\u001b[0m \u001b[38;5;28;01mfrom\u001b[39;00m \u001b[38;5;21;01mvisualizations\u001b[39;00m \u001b[38;5;28;01mimport\u001b[39;00m plot_bar, plot_scatter\n\u001b[0;32m     12\u001b[0m \u001b[38;5;28;01mdef\u001b[39;00m \u001b[38;5;21mmain\u001b[39m():\n\u001b[0;32m     13\u001b[0m     \u001b[38;5;66;03m# Load the data\u001b[39;00m\n",
      "\u001b[1;31mImportError\u001b[0m: cannot import name 'calculate_mean' from 'statistics' (C:\\Users\\ADMIN\\AppData\\Local\\Programs\\Python\\Python313\\Lib\\statistics.py)"
     ]
    }
   ],
   "source": [
    "import sys\n",
    "import os\n",
    "\n",
    "# Add the 'src' directory to the system path so the modules can be imported\n",
    "sys.path.append(os.path.abspath(os.path.join(os.getcwd(), '..', 'src')))\n",
    "\n",
    "# Import necessary modules from src\n",
    "from load_data import load_csv\n",
    "from statistics import calculate_mean, calculate_median, calculate_std_dev\n",
    "from visualizations import plot_bar, plot_scatter\n",
    "\n",
    "def main():\n",
    "    # Load the data\n",
    "    data = load_csv()\n",
    "    \n",
    "    if data is not None:\n",
    "        # Example: Calculate and print the mean of a specific column\n",
    "        mean_exp = calculate_mean(data, 'Mthly_HH_Expense')\n",
    "        print(f\"Mean Household Expense: {mean_exp}\")\n",
    "\n",
    "        # Example: Plot a bar chart for the Highest Qualified Member\n",
    "        plot_bar(data, 'Highest_Qualified_Member')\n",
    "\n",
    "if __name__ == \"__main__\":\n",
    "    main()\n"
   ]
  },
  {
   "cell_type": "code",
   "execution_count": null,
   "metadata": {},
   "outputs": [],
   "source": []
  }
 ],
 "metadata": {
  "kernelspec": {
   "display_name": "Python 3 (ipykernel)",
   "language": "python",
   "name": "python3"
  },
  "language_info": {
   "codemirror_mode": {
    "name": "ipython",
    "version": 3
   },
   "file_extension": ".py",
   "mimetype": "text/x-python",
   "name": "python",
   "nbconvert_exporter": "python",
   "pygments_lexer": "ipython3",
   "version": "3.13.0"
  }
 },
 "nbformat": 4,
 "nbformat_minor": 4
}
