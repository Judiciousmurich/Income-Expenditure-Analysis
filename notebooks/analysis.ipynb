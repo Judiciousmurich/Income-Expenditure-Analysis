{
 "cells": [
  {
   "cell_type": "code",
   "execution_count": 11,
   "metadata": {},
   "outputs": [
    {
     "ename": "ModuleNotFoundError",
     "evalue": "No module named 'income_statistics'",
     "output_type": "error",
     "traceback": [
      "\u001b[1;31m-----------------------------------------------------------\u001b[0m",
      "\u001b[1;31mModuleNotFoundError\u001b[0m       Traceback (most recent call last)",
      "Cell \u001b[1;32mIn[11], line 9\u001b[0m\n\u001b[0;32m      7\u001b[0m \u001b[38;5;66;03m# Import necessary functions from the modules\u001b[39;00m\n\u001b[0;32m      8\u001b[0m \u001b[38;5;28;01mfrom\u001b[39;00m \u001b[38;5;21;01mload_data\u001b[39;00m \u001b[38;5;28;01mimport\u001b[39;00m load_csv\n\u001b[1;32m----> 9\u001b[0m \u001b[38;5;28;01mfrom\u001b[39;00m \u001b[38;5;21;01mincome_statistics\u001b[39;00m \u001b[38;5;28;01mimport\u001b[39;00m calculate_mean, calculate_median, calculate_std_dev\n\u001b[0;32m     10\u001b[0m \u001b[38;5;28;01mfrom\u001b[39;00m \u001b[38;5;21;01mvisualizations\u001b[39;00m \u001b[38;5;28;01mimport\u001b[39;00m plot_bar, plot_scatter\n\u001b[0;32m     12\u001b[0m \u001b[38;5;66;03m# Define the main function to run the analysis\u001b[39;00m\n",
      "\u001b[1;31mModuleNotFoundError\u001b[0m: No module named 'income_statistics'"
     ]
    }
   ],
   "source": [
    "import sys\n",
    "import os\n",
    "\n",
    "# Add the 'src' directory to the system path so the modules can be imported\n",
    "sys.path.append(os.path.abspath(os.path.join(os.getcwd(), 'src')))\n",
    "\n",
    "# Import necessary functions from the modules\n",
    "from load_data import load_csv\n",
    "from income_statistics import calculate_mean, calculate_median, calculate_std_dev\n",
    "from visualizations import plot_bar, plot_scatter\n",
    "\n",
    "# Define the main function to run the analysis\n",
    "def main():\n",
    "    # Load the data\n",
    "    data = load_csv(\"../data/Inc_Exp_Data.csv\")  # Ensure the path to CSV is correct\n",
    "\n",
    "    if data is not None:\n",
    "        # Example: Calculate and print the mean of a specific column\n",
    "        mean_exp = calculate_mean(data, 'Mthly_HH_Expense')\n",
    "        print(f\"Mean Household Expense: {mean_exp}\")\n",
    "\n",
    "        # Example: Plot a bar chart for the Highest Qualified Member\n",
    "        plot_bar(data, 'Highest_Qualified_Member')\n",
    "\n",
    "        # Example: Plot a scatter plot for Income vs Expense\n",
    "        plot_scatter(data, 'Mthly_HH_Income', 'Mthly_HH_Expense')\n",
    "\n",
    "if __name__ == \"__main__\":\n",
    "    main()\n",
    "\n"
   ]
  },
  {
   "cell_type": "code",
   "execution_count": null,
   "metadata": {},
   "outputs": [],
   "source": []
  }
 ],
 "metadata": {
  "kernelspec": {
   "display_name": "Python 3 (ipykernel)",
   "language": "python",
   "name": "python3"
  },
  "language_info": {
   "codemirror_mode": {
    "name": "ipython",
    "version": 3
   },
   "file_extension": ".py",
   "mimetype": "text/x-python",
   "name": "python",
   "nbconvert_exporter": "python",
   "pygments_lexer": "ipython3",
   "version": "3.13.0"
  }
 },
 "nbformat": 4,
 "nbformat_minor": 4
}
