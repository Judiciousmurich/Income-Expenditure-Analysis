{
 "cells": [
  {
   "cell_type": "code",
   "execution_count": null,
   "metadata": {
    "vscode": {
     "languageId": "plaintext"
    }
   },
   "outputs": [],
   "source": [
    "# Import necessary modules from src\n",
    "from src.load_data import load_csv\n",
    "from src.statistics import calculate_mean, calculate_median, calculate_std_dev\n",
    "from src.visualizations import plot_bar, plot_scatter\n",
    "\n",
    "# Load the dataset\n",
    "file_path = \"../data/Inc_Exp_Data.csv\"\n",
    "data = load_csv(file_path)\n",
    "\n",
    "# Quick overview of the data\n",
    "if data is not None:\n",
    "    print(data.info())\n",
    "\n",
    "    # Calculate statistics\n",
    "    print(\"Mean Monthly Household Expense:\", calculate_mean(data, \"Mthly_HH_Expense\"))\n",
    "    print(\"Median Monthly Household Expense:\", calculate_median(data, \"Mthly_HH_Expense\"))\n",
    "    print(\"Standard Deviation of Income:\", calculate_std_dev(data, \"Mthly_HH_Income\"))\n",
    "\n",
    "    # Visualizations\n",
    "    plot_bar(data, \"Highest_Qualified_Member\")\n",
    "    plot_scatter(data, \"Mthly_HH_Income\", \"Mthly_HH_Expense\")\n"
   ]
  }
 ],
 "metadata": {
  "language_info": {
   "name": "python"
  }
 },
 "nbformat": 4,
 "nbformat_minor": 2
}
