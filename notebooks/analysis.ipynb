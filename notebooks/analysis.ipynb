{
 "cells": [
  {
   "cell_type": "code",
   "execution_count": 13,
   "metadata": {},
   "outputs": [],
   "source": [
    "import pandas as pd\n",
    "import os\n",
    "\n",
    "def load_income_expense_data(project_root, data_path=None):\n",
    "    \"\"\"\n",
    "    Load income and expense data from a CSV file.\n",
    "    \n",
    "    Parameters:\n",
    "    -----------\n",
    "    project_root : str\n",
    "        Path to the root directory of the project\n",
    "    data_path : str, optional\n",
    "        Path to the CSV file containing income and expense data\n",
    "        If not provided, it will default to 'data/Inc_Exp_Data.csv' relative to the project root\n",
    "    \n",
    "    Returns:\n",
    "    --------\n",
    "    pandas.DataFrame\n",
    "        Loaded dataframe with income and expense information\n",
    "    \"\"\"\n",
    "    if data_path is None:\n",
    "        data_path = os.path.join(project_root, 'data', 'Inc_Exp_Data.csv')\n",
    "    \n",
    "    try:\n",
    "        # Check if file exists\n",
    "        if not os.path.exists(data_path):\n",
    "            raise FileNotFoundError(f\"The file {data_path} does not exist.\")\n",
    "        \n",
    "        # Read the CSV file\n",
    "        df = pd.read_csv(data_path)\n",
    "        \n",
    "        # Basic data validation\n",
    "        if df.empty:\n",
    "            print(\"Warning: The loaded dataframe is empty.\")\n",
    "        \n",
    "        return df\n",
    "    \n",
    "    except Exception as e:\n",
    "        print(f\"Error loading data: {e}\")\n",
    "        return None"
   ]
  },
  {
   "cell_type": "code",
   "execution_count": null,
   "metadata": {},
   "outputs": [],
   "source": []
  },
  {
   "cell_type": "code",
   "execution_count": null,
   "metadata": {},
   "outputs": [],
   "source": []
  },
  {
   "cell_type": "code",
   "execution_count": null,
   "metadata": {},
   "outputs": [],
   "source": []
  }
 ],
 "metadata": {
  "kernelspec": {
   "display_name": "Python 3 (ipykernel)",
   "language": "python",
   "name": "python3"
  },
  "language_info": {
   "codemirror_mode": {
    "name": "ipython",
    "version": 3
   },
   "file_extension": ".py",
   "mimetype": "text/x-python",
   "name": "python",
   "nbconvert_exporter": "python",
   "pygments_lexer": "ipython3",
   "version": "3.13.0"
  }
 },
 "nbformat": 4,
 "nbformat_minor": 4
}
